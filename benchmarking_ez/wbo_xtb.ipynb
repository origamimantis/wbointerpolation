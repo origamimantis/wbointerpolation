{
 "cells": [
  {
   "cell_type": "code",
   "execution_count": 1,
   "id": "governmental-bruce",
   "metadata": {},
   "outputs": [],
   "source": [
    "import qcportal as ptl\n",
    "import os\n",
    "import cmiles\n",
    "from openeye import oechem, oequacpac"
   ]
  },
  {
   "cell_type": "markdown",
   "id": "administrative-static",
   "metadata": {},
   "source": [
    "# Get some random molecule to use as an example"
   ]
  },
  {
   "cell_type": "code",
   "execution_count": 2,
   "id": "whole-spectrum",
   "metadata": {},
   "outputs": [
    {
     "data": {
      "text/html": [
       "<div>\n",
       "<style scoped>\n",
       "    .dataframe tbody tr th:only-of-type {\n",
       "        vertical-align: middle;\n",
       "    }\n",
       "\n",
       "    .dataframe tbody tr th {\n",
       "        vertical-align: top;\n",
       "    }\n",
       "\n",
       "    .dataframe thead th {\n",
       "        text-align: right;\n",
       "    }\n",
       "</style>\n",
       "<table border=\"1\" class=\"dataframe\">\n",
       "  <thead>\n",
       "    <tr style=\"text-align: right;\">\n",
       "      <th></th>\n",
       "      <th>default</th>\n",
       "    </tr>\n",
       "  </thead>\n",
       "  <tbody>\n",
       "    <tr>\n",
       "      <th>c1cn[c:1]([nH]1)[CH2:2][C@H:3]2CCCC[C@@H:4]2O</th>\n",
       "      <td>COMPLETE</td>\n",
       "    </tr>\n",
       "    <tr>\n",
       "      <th>c1cc[c:1](cc1)[CH2:2][CH2:3][F:4]</th>\n",
       "      <td>COMPLETE</td>\n",
       "    </tr>\n",
       "    <tr>\n",
       "      <th>[CH3:4][CH2:3][C:2]1([CH2:1]OC1)C</th>\n",
       "      <td>COMPLETE</td>\n",
       "    </tr>\n",
       "    <tr>\n",
       "      <th>[H:1][CH2:2][C@:3]([H:4])(c1ccccc1)C(=O)N(C)C</th>\n",
       "      <td>COMPLETE</td>\n",
       "    </tr>\n",
       "    <tr>\n",
       "      <th>[H:1][CH2:2][C:3]([H:4])(c1ccccc1)c2ccccc2</th>\n",
       "      <td>COMPLETE</td>\n",
       "    </tr>\n",
       "    <tr>\n",
       "      <th>...</th>\n",
       "      <td>...</td>\n",
       "    </tr>\n",
       "    <tr>\n",
       "      <th>[CH3:1][N@@:2](c1ccccc1)[S:3](=O)(=O)[CH3:4]</th>\n",
       "      <td>COMPLETE</td>\n",
       "    </tr>\n",
       "    <tr>\n",
       "      <th>[CH3:4][NH:3][S:2](=O)(=O)[c:1]1ccccc1</th>\n",
       "      <td>COMPLETE</td>\n",
       "    </tr>\n",
       "    <tr>\n",
       "      <th>c1cc[c:1](cc1)[S:2](=O)(=O)[N:3]2[CH2:4]CCC2</th>\n",
       "      <td>COMPLETE</td>\n",
       "    </tr>\n",
       "    <tr>\n",
       "      <th>C[N:2]([CH3:1])[S:3](=O)(=[O:4])c1ccccn1</th>\n",
       "      <td>COMPLETE</td>\n",
       "    </tr>\n",
       "    <tr>\n",
       "      <th>C[N@@:2]([c:1]1ccccc1)[S:3](=O)(=O)[CH3:4]</th>\n",
       "      <td>COMPLETE</td>\n",
       "    </tr>\n",
       "  </tbody>\n",
       "</table>\n",
       "<p>136 rows × 1 columns</p>\n",
       "</div>"
      ],
      "text/plain": [
       "                                                default\n",
       "c1cn[c:1]([nH]1)[CH2:2][C@H:3]2CCCC[C@@H:4]2O  COMPLETE\n",
       "c1cc[c:1](cc1)[CH2:2][CH2:3][F:4]              COMPLETE\n",
       "[CH3:4][CH2:3][C:2]1([CH2:1]OC1)C              COMPLETE\n",
       "[H:1][CH2:2][C@:3]([H:4])(c1ccccc1)C(=O)N(C)C  COMPLETE\n",
       "[H:1][CH2:2][C:3]([H:4])(c1ccccc1)c2ccccc2     COMPLETE\n",
       "...                                                 ...\n",
       "[CH3:1][N@@:2](c1ccccc1)[S:3](=O)(=O)[CH3:4]   COMPLETE\n",
       "[CH3:4][NH:3][S:2](=O)(=O)[c:1]1ccccc1         COMPLETE\n",
       "c1cc[c:1](cc1)[S:2](=O)(=O)[N:3]2[CH2:4]CCC2   COMPLETE\n",
       "C[N:2]([CH3:1])[S:3](=O)(=[O:4])c1ccccn1       COMPLETE\n",
       "C[N@@:2]([c:1]1ccccc1)[S:3](=O)(=O)[CH3:4]     COMPLETE\n",
       "\n",
       "[136 rows x 1 columns]"
      ]
     },
     "execution_count": 2,
     "metadata": {},
     "output_type": "execute_result"
    }
   ],
   "source": [
    "client = ptl.FractalClient()  \n",
    "ds = client.get_collection(\"TorsionDriveDataset\", \"OpenFF Gen 2 Torsion Set 1 Roche 2\")\n",
    "ds.status([\"default\"], collapse=False, status=\"COMPLETE\")"
   ]
  },
  {
   "cell_type": "code",
   "execution_count": 3,
   "id": "exotic-wallpaper",
   "metadata": {},
   "outputs": [
    {
     "data": {
      "text/plain": [
       "((2, 9, 7, 8),\n",
       " <oechem.OEMol; proxy of <Swig Object of type 'OEMolWrapper *' at 0x7f4b0be98ed0> >)"
      ]
     },
     "execution_count": 3,
     "metadata": {},
     "output_type": "execute_result"
    }
   ],
   "source": [
    "oemol = None\n",
    "dihedrals = None\n",
    "\n",
    "# take the first molecule\n",
    "tdr = ds.df.loc[ds.df.index[0], \"default\"]\n",
    "        \n",
    "min_idx = min(tdr.final_energy_dict, key=tdr.final_energy_dict.get)\n",
    "record = tdr.get_history(min_idx, minimum=True)\n",
    "\n",
    "# get optimized molecule of the record\n",
    "qc_mol = record.get_final_molecule()\n",
    "\n",
    "# convert the qcelemental molecule to an OpenEye molecule\n",
    "qcjson_mol = qc_mol.dict(encoding='json')\n",
    "oemol = cmiles.utils.load_molecule(qcjson_mol)\n",
    "\n",
    "dihedrals = tdr.keywords.dihedrals[0]\n",
    "\n",
    "dihedrals, oemol"
   ]
  },
  {
   "cell_type": "markdown",
   "id": "ordered-dealing",
   "metadata": {},
   "source": [
    "# Get wbo from xtb"
   ]
  },
  {
   "cell_type": "code",
   "execution_count": 4,
   "id": "technical-traveler",
   "metadata": {},
   "outputs": [],
   "source": [
    "def get_xtb_wbo(oemol, idx1, idx2):\n",
    "    '''\n",
    "    mol:  OEMol to calculate wbo for\n",
    "    idx1: index of first molecule\n",
    "    idx2: index of second molecule\n",
    "    \n",
    "    returns a float for wbo between the atoms specified by idx1, idx2\n",
    "    '''\n",
    "\n",
    "    # make a temporary folder -- xtb creates extra files but I want to clean those up\n",
    "    tmpdir = \"_xtbtmpdir\"\n",
    "    if not os.path.exists(tmpdir):\n",
    "        os.makedirs(tmpdir)\n",
    "    os.chdir(tmpdir)\n",
    "\n",
    "    # make some temporary files to run xtb\n",
    "    tmpfile = '_xtbtmp.sdf'\n",
    "    ofs = oechem.oemolostream()\n",
    "    if not ofs.open(tmpfile):\n",
    "        oechem.OEThrow.Fatal(\"Unable to open %s for writing\" % outfile)\n",
    "\n",
    "    # make a copy of the molecule\n",
    "    molcopy = oechem.OEMol(oemol)\n",
    "\n",
    "    # add title\n",
    "    molcopy.SetTitle(\"xD\")\n",
    "\n",
    "    # write molecule to file\n",
    "    oechem.OEWriteConstMolecule(ofs, molcopy)\n",
    "\n",
    "    # close ofs\n",
    "    ofs.close()\n",
    "\n",
    "    # run xtb\n",
    "    os.system(\"xtb --wbo _xtbtmp.sdf\")\n",
    "\n",
    "    # stuff\n",
    "    idxs = (idx1, idx2)\n",
    "\n",
    "    # our return value\n",
    "    wbo = None\n",
    "    \n",
    "    # xtb creates a files called \"wbo\" with all our information\n",
    "    with open(\"wbo\", \"r\") as wbofile:\n",
    "\n",
    "        for line in wbofile:\n",
    "            mol1, mol2, wbo_ = line.split()\n",
    "            mol1 = int(mol1)\n",
    "            mol2 = int(mol2)\n",
    "            wbo_ = float(wbo_)\n",
    "\n",
    "            # if the indices match with the current line, we found our wbo\n",
    "\n",
    "            if (mol1,mol2) == idxs or (mol2, mol1) == idxs:\n",
    "                found = True\n",
    "                wbo = wbo_\n",
    "                break\n",
    "        if wbo is None:\n",
    "            # if we got here and wbo not found: probably never gonna happen but just in case\n",
    "            raise Exception(f\"No wbo for indices {idx1}, {idx2}\")\n",
    "\n",
    "    # go back\n",
    "    os.chdir(\"../\")\n",
    "\n",
    "    # and delete all the temporary files\n",
    "    os.system(f\"rm -rf {tmpdir}\")\n",
    "    \n",
    "    return wbo\n"
   ]
  },
  {
   "cell_type": "code",
   "execution_count": 5,
   "id": "higher-understanding",
   "metadata": {},
   "outputs": [
    {
     "data": {
      "text/plain": [
       "0.9940953173976125"
      ]
     },
     "execution_count": 5,
     "metadata": {},
     "output_type": "execute_result"
    }
   ],
   "source": [
    "get_xtb_wbo(oemol, dihedrals[1], dihedrals[2])"
   ]
  }
 ],
 "metadata": {
  "kernelspec": {
   "display_name": "Python 3",
   "language": "python",
   "name": "python3"
  },
  "language_info": {
   "codemirror_mode": {
    "name": "ipython",
    "version": 3
   },
   "file_extension": ".py",
   "mimetype": "text/x-python",
   "name": "python",
   "nbconvert_exporter": "python",
   "pygments_lexer": "ipython3",
   "version": "3.8.6"
  }
 },
 "nbformat": 4,
 "nbformat_minor": 5
}
